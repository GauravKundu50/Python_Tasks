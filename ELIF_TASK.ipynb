{
 "cells": [
  {
   "cell_type": "markdown",
   "id": "9f271669-5dc7-4354-b6aa-76386d2fffe1",
   "metadata": {},
   "source": [
    "# JOIN TEXT"
   ]
  },
  {
   "cell_type": "code",
   "execution_count": 3,
   "id": "be86a7e5-2d8e-4532-ac63-5558fa61c39a",
   "metadata": {},
   "outputs": [
    {
     "name": "stdout",
     "output_type": "stream",
     "text": [
      "ARC_DA-4\n"
     ]
    }
   ],
   "source": [
    "def join_text (*args,separator=''):\n",
    "    return separator.join(args)\n",
    "    \n",
    "t1 = \"ARC\"\n",
    "t2 = \"DA-4\"\n",
    "\n",
    "joined_text = join_text(t1,t2, separator='_')\n",
    "\n",
    "print(joined_text)"
   ]
  },
  {
   "cell_type": "code",
   "execution_count": null,
   "id": "289e2a8e-a23f-4130-a94c-fad04af94c02",
   "metadata": {},
   "outputs": [],
   "source": []
  },
  {
   "cell_type": "markdown",
   "id": "69afc3bb-1a56-4c65-aa1f-b18cea154d90",
   "metadata": {},
   "source": [
    "# TRIM TEXT"
   ]
  },
  {
   "cell_type": "code",
   "execution_count": 4,
   "id": "538e28c9-a752-4b19-816c-db76384f78a2",
   "metadata": {},
   "outputs": [],
   "source": [
    "def trim_text(text, side = 'both'):\n",
    "    if side == 'left':\n",
    "        return text.lstrip()\n",
    "    elif side == 'right':\n",
    "        return text.rstrip()\n",
    "    elif side == 'both':\n",
    "        return text.strip()"
   ]
  },
  {
   "cell_type": "code",
   "execution_count": 8,
   "id": "f4609444-c5be-4410-a6ed-f2ccea1c8630",
   "metadata": {},
   "outputs": [
    {
     "name": "stdout",
     "output_type": "stream",
     "text": [
      "trimmed(both side): ARC_DA-4\n"
     ]
    }
   ],
   "source": [
    "text = \"ARC_DA-4\"\n",
    "\n",
    "trimmed_text_both = trim_text(text)\n",
    "print('trimmed(both side):',trimmed_text_both)"
   ]
  },
  {
   "cell_type": "code",
   "execution_count": 9,
   "id": "6b7fbd32-16de-4023-a72c-923ef787e22f",
   "metadata": {},
   "outputs": [
    {
     "name": "stdout",
     "output_type": "stream",
     "text": [
      "trimmed(left side): ARC_DA-4\n"
     ]
    }
   ],
   "source": [
    "trimmed_text_left = trim_text(text)\n",
    "print('trimmed(left side):',trimmed_text_left)"
   ]
  },
  {
   "cell_type": "code",
   "execution_count": 10,
   "id": "722684e0-792b-42a4-a300-41bc3c21b8a3",
   "metadata": {},
   "outputs": [
    {
     "name": "stdout",
     "output_type": "stream",
     "text": [
      "trimmed(right side): ARC_DA-4\n"
     ]
    }
   ],
   "source": [
    "trimmed_text_right = trim_text(text)\n",
    "print('trimmed(right side):',trimmed_text_right)"
   ]
  },
  {
   "cell_type": "code",
   "execution_count": null,
   "id": "5b841824-db73-428f-881d-f04088724897",
   "metadata": {},
   "outputs": [],
   "source": []
  },
  {
   "cell_type": "markdown",
   "id": "d28564c2-05d4-42e8-872a-a3ecb729130f",
   "metadata": {},
   "source": [
    "# SUBSTITUTE TEXT"
   ]
  },
  {
   "cell_type": "code",
   "execution_count": 11,
   "id": "943a839e-d67f-4601-8144-e23bfb058a23",
   "metadata": {},
   "outputs": [],
   "source": [
    "def substitute_text(text,old,new):\n",
    "    return text.replace(old,new)"
   ]
  },
  {
   "cell_type": "code",
   "execution_count": 15,
   "id": "b5cd3167-9ba6-4e4e-bab7-a4301bd3a0d5",
   "metadata": {},
   "outputs": [],
   "source": [
    "real_text = \"ARC TEC DA-4\"\n",
    "old_text = \"TEC\"\n",
    "new_text = \"TECHNALOGIES\""
   ]
  },
  {
   "cell_type": "code",
   "execution_count": 16,
   "id": "8ee77d39-62fa-4225-82ec-de8383e0f1e0",
   "metadata": {},
   "outputs": [],
   "source": [
    "substituted_text = substitute_text(real_text,old_text,new_text)"
   ]
  },
  {
   "cell_type": "code",
   "execution_count": 17,
   "id": "e0dea997-2295-440f-bbd6-e47ae1057e0e",
   "metadata": {},
   "outputs": [
    {
     "name": "stdout",
     "output_type": "stream",
     "text": [
      "ARC TEC DA-4\n",
      "ARC TECHNALOGIES DA-4\n"
     ]
    }
   ],
   "source": [
    "print(real_text)\n",
    "print(substituted_text)"
   ]
  },
  {
   "cell_type": "code",
   "execution_count": null,
   "id": "e6b44654-521a-4dd9-ae25-3513dc4c97c2",
   "metadata": {},
   "outputs": [],
   "source": []
  },
  {
   "cell_type": "markdown",
   "id": "e8b6ca77-c412-485c-bb94-582f9a13a494",
   "metadata": {},
   "source": [
    "# CUT TEXT"
   ]
  },
  {
   "cell_type": "code",
   "execution_count": 25,
   "id": "015fbe14-fb2f-4001-b194-0269b1f2b28e",
   "metadata": {},
   "outputs": [
    {
     "name": "stdout",
     "output_type": "stream",
     "text": [
      "original_text: ARC TECHNALOGIES AND INSTITUTIONS NAGPUR\n",
      "cut_portion: TECHNALOGIES AND\n"
     ]
    }
   ],
   "source": [
    "def cut_text(text,start,end):\n",
    "    return text[start:end]\n",
    "\n",
    "original_text = \"ARC TECHNALOGIES AND INSTITUTIONS NAGPUR\"\n",
    "\n",
    "start_position = 4\n",
    "\n",
    "end_position = 20\n",
    "\n",
    "cut_portion = cut_text(original_text,start_position,end_position)\n",
    "\n",
    "print(f'original_text: {original_text}')\n",
    "\n",
    "print(f'cut_portion: {cut_portion}')"
   ]
  },
  {
   "cell_type": "code",
   "execution_count": null,
   "id": "c8d42b02-1262-4d07-b504-528c0d2d3613",
   "metadata": {},
   "outputs": [],
   "source": []
  }
 ],
 "metadata": {
  "kernelspec": {
   "display_name": "Python 3 (ipykernel)",
   "language": "python",
   "name": "python3"
  },
  "language_info": {
   "codemirror_mode": {
    "name": "ipython",
    "version": 3
   },
   "file_extension": ".py",
   "mimetype": "text/x-python",
   "name": "python",
   "nbconvert_exporter": "python",
   "pygments_lexer": "ipython3",
   "version": "3.11.7"
  }
 },
 "nbformat": 4,
 "nbformat_minor": 5
}
