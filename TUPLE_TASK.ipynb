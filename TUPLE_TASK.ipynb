{
 "cells": [
  {
   "cell_type": "markdown",
   "id": "0e892b0a-3d4a-444c-847d-1410984744b9",
   "metadata": {},
   "source": [
    "# INDEX\n",
    "\n",
    "* The 'INDEX' method helps us to find the index or occurrence of an element in the tuple.\n",
    "\n",
    "* Example:-"
   ]
  },
  {
   "cell_type": "code",
   "execution_count": 56,
   "id": "24547a41-756d-4db6-a727-99e7f7f691e2",
   "metadata": {},
   "outputs": [
    {
     "name": "stdout",
     "output_type": "stream",
     "text": [
      "3\n"
     ]
    }
   ],
   "source": [
    "a1 = (21,34,55,76,44,23,47,98,30,38)\n",
    "\n",
    "a1 = a1.index(76)\n",
    "\n",
    "print(a1)"
   ]
  },
  {
   "cell_type": "code",
   "execution_count": null,
   "id": "c1054419-a2cb-47cc-ab95-4c9c4ae7711f",
   "metadata": {},
   "outputs": [],
   "source": []
  },
  {
   "cell_type": "markdown",
   "id": "9f6107e3-7e69-41c3-95f3-e7b6f6ca2a72",
   "metadata": {},
   "source": [
    "# INDEXING\n",
    "\n",
    "* The 'INDEXING' are access individual elements of a tuple using square brackets []\n",
    "\n",
    "* Example:-"
   ]
  },
  {
   "cell_type": "code",
   "execution_count": 1,
   "id": "308a68a7-3c4b-4a85-b941-59a4e162f469",
   "metadata": {},
   "outputs": [
    {
     "data": {
      "text/plain": [
       "(11, 77, 39, 24, 15)"
      ]
     },
     "execution_count": 1,
     "metadata": {},
     "output_type": "execute_result"
    }
   ],
   "source": [
    "tuple = (11, 77, 39, 24, 15)\n",
    "\n",
    "tuple"
   ]
  },
  {
   "cell_type": "code",
   "execution_count": 2,
   "id": "f60ae10f-694f-4deb-9d09-e27e59d35b87",
   "metadata": {},
   "outputs": [
    {
     "name": "stdout",
     "output_type": "stream",
     "text": [
      "11\n"
     ]
    }
   ],
   "source": [
    "print(tuple[0])"
   ]
  },
  {
   "cell_type": "code",
   "execution_count": null,
   "id": "c0daefde-7435-4812-a66e-e6f8ba423ee3",
   "metadata": {},
   "outputs": [],
   "source": []
  },
  {
   "cell_type": "markdown",
   "id": "d50cb2df-756f-4527-bf3f-13d47a38dfbf",
   "metadata": {},
   "source": [
    "# SLICING\n",
    "\n",
    "* The 'SLICING' is extract a subset of elements from a tuple.\n",
    "\n",
    "* Example:-"
   ]
  },
  {
   "cell_type": "code",
   "execution_count": 6,
   "id": "751c1abe-2491-4ff7-99fd-37f41e35b15e",
   "metadata": {},
   "outputs": [
    {
     "data": {
      "text/plain": [
       "(10, 105, 4, 5)"
      ]
     },
     "execution_count": 6,
     "metadata": {},
     "output_type": "execute_result"
    }
   ],
   "source": [
    "t1 = (10,105,4,5)\n",
    "t1"
   ]
  },
  {
   "cell_type": "code",
   "execution_count": 7,
   "id": "3a936b05-06ed-4f01-abe7-7315dbc5a4b3",
   "metadata": {},
   "outputs": [
    {
     "name": "stdout",
     "output_type": "stream",
     "text": [
      "(105, 4, 5)\n"
     ]
    }
   ],
   "source": [
    "print(t1[1:4]) "
   ]
  },
  {
   "cell_type": "code",
   "execution_count": null,
   "id": "5874686f-3579-4188-a87d-25c8d80c6c8e",
   "metadata": {},
   "outputs": [],
   "source": []
  },
  {
   "cell_type": "markdown",
   "id": "c2589b42-337f-46f9-9149-7ec39568d233",
   "metadata": {},
   "source": [
    "# LENGTH\n",
    "\n",
    "* The 'LENGTH' is get the number of elements in a tuple using the len() function.\n",
    "\n",
    "* Example:-"
   ]
  },
  {
   "cell_type": "code",
   "execution_count": 13,
   "id": "468fff1d-3d3e-47bb-9600-8f3169f5849a",
   "metadata": {},
   "outputs": [
    {
     "data": {
      "text/plain": [
       "(19, 21, 23, 47, 87, 94, 29, 99)"
      ]
     },
     "execution_count": 13,
     "metadata": {},
     "output_type": "execute_result"
    }
   ],
   "source": [
    "t2 = (19, 21, 23, 47, 87,94,29,99,)\n",
    "t2"
   ]
  },
  {
   "cell_type": "code",
   "execution_count": 14,
   "id": "51b4de53-c258-4d29-80cb-49778ba1cc9f",
   "metadata": {},
   "outputs": [
    {
     "name": "stdout",
     "output_type": "stream",
     "text": [
      "8\n"
     ]
    }
   ],
   "source": [
    "print(len(t2)) "
   ]
  },
  {
   "cell_type": "code",
   "execution_count": null,
   "id": "223a356f-75f5-44d6-a863-24fcf1f5b90c",
   "metadata": {},
   "outputs": [],
   "source": []
  },
  {
   "cell_type": "markdown",
   "id": "cb9a5ce6-a1b7-4c64-9322-23f7c30dc4e8",
   "metadata": {},
   "source": [
    "# CONCATENATION\n",
    "\n",
    "* The 'CONCATENATION' are concatenate two tuples using the + operator.\n",
    "\n",
    "* Example:-"
   ]
  },
  {
   "cell_type": "code",
   "execution_count": 17,
   "id": "5a710a28-f2b1-48fa-9950-0c5e14ef35a8",
   "metadata": {},
   "outputs": [
    {
     "name": "stdout",
     "output_type": "stream",
     "text": [
      "(1, 2, 3, 4, 5, 6, 7, 8, 9, 10, 11, 12, 13, 14, 15, 16, 17, 18, 19, 20)\n"
     ]
    }
   ],
   "source": [
    "t3 = (1, 2, 3,4,5,6,7,8,9)\n",
    "\n",
    "t4 = (10,11,12,13,14,15,16,17,18,19,20)\n",
    "\n",
    "concatenated_tuple = t3 + t4\n",
    "\n",
    "print(concatenated_tuple)  "
   ]
  },
  {
   "cell_type": "code",
   "execution_count": null,
   "id": "5cdfa62e-295d-42e7-b162-8071cec05c11",
   "metadata": {},
   "outputs": [],
   "source": []
  },
  {
   "cell_type": "markdown",
   "id": "4f4255f5-4925-4257-bd5c-e2c1f020227f",
   "metadata": {},
   "source": [
    "# REPETITION\n",
    "\n",
    "* The 'REPETITION' is repeat a tuple for a given number of times using the * operator.\n",
    "\n",
    "* Example:-"
   ]
  },
  {
   "cell_type": "code",
   "execution_count": 22,
   "id": "c5d53a41-5e46-4faa-8d48-2dbe4bdd623c",
   "metadata": {},
   "outputs": [
    {
     "data": {
      "text/plain": [
       "(11, 54, 44, 87, 95)"
      ]
     },
     "execution_count": 22,
     "metadata": {},
     "output_type": "execute_result"
    }
   ],
   "source": [
    "tuple = (11, 54, 44, 87, 95)\n",
    "tuple"
   ]
  },
  {
   "cell_type": "code",
   "execution_count": 23,
   "id": "27cdcc5b-1267-4693-b835-a698893ee29f",
   "metadata": {},
   "outputs": [
    {
     "name": "stdout",
     "output_type": "stream",
     "text": [
      "(11, 54, 44, 87, 95, 11, 54, 44, 87, 95)\n"
     ]
    }
   ],
   "source": [
    "R_tuple = tuple * 2\n",
    "print(R_tuple)"
   ]
  },
  {
   "cell_type": "code",
   "execution_count": null,
   "id": "010a9973-8a04-48b1-a7a9-9f6c215be566",
   "metadata": {},
   "outputs": [],
   "source": []
  },
  {
   "cell_type": "markdown",
   "id": "a0944434-3a3b-4f07-a045-ffd8825dc035",
   "metadata": {},
   "source": [
    "# COUNT\n",
    "\n",
    "* The 'COUNT' are count the occurrences of a specific element in a tuple using the count() method.\n",
    "\n",
    "* Example:-"
   ]
  },
  {
   "cell_type": "code",
   "execution_count": 42,
   "id": "ed8e8f7e-7b3c-4f2b-9743-37740ae189a3",
   "metadata": {},
   "outputs": [
    {
     "data": {
      "text/plain": [
       "(31, 52, 73, 31, 31)"
      ]
     },
     "execution_count": 42,
     "metadata": {},
     "output_type": "execute_result"
    }
   ],
   "source": [
    "t1 = (31, 52, 73, 31, 31)\n",
    "\n",
    "t1"
   ]
  },
  {
   "cell_type": "code",
   "execution_count": 43,
   "id": "45bca3f1-9c99-4a0c-824e-face8ecf3e30",
   "metadata": {},
   "outputs": [
    {
     "name": "stdout",
     "output_type": "stream",
     "text": [
      "1\n"
     ]
    }
   ],
   "source": [
    "print(t1.count(73))"
   ]
  },
  {
   "cell_type": "code",
   "execution_count": null,
   "id": "db489b2f-9fda-498f-b5e1-2d980751cd7b",
   "metadata": {},
   "outputs": [],
   "source": []
  },
  {
   "cell_type": "markdown",
   "id": "632145bd-88c4-44e0-b70d-3d418fb6e0bf",
   "metadata": {},
   "source": [
    "# SORTED\n",
    "\n",
    "* The 'SORTED' method takes a tuple as an input and returns a sorted list as an output.\n",
    "\n",
    "* Example:-"
   ]
  },
  {
   "cell_type": "code",
   "execution_count": 51,
   "id": "c402de14-4947-440e-9042-4aec0d33bcf8",
   "metadata": {},
   "outputs": [
    {
     "data": {
      "text/plain": [
       "(22, 43, 5, 67, 2, 4, 76, 1, 3, 9)"
      ]
     },
     "execution_count": 51,
     "metadata": {},
     "output_type": "execute_result"
    }
   ],
   "source": [
    "t5 = (22,43,5,67,2,4,76,1,3,9)\n",
    "\n",
    "t5"
   ]
  },
  {
   "cell_type": "code",
   "execution_count": 52,
   "id": "e4f1e811-e881-492f-9de9-9a4c2cb2d5de",
   "metadata": {},
   "outputs": [
    {
     "data": {
      "text/plain": [
       "[1, 2, 3, 4, 5, 9, 22, 43, 67, 76]"
      ]
     },
     "execution_count": 52,
     "metadata": {},
     "output_type": "execute_result"
    }
   ],
   "source": [
    "t5 = sorted(t5)\n",
    "\n",
    "t5"
   ]
  },
  {
   "cell_type": "code",
   "execution_count": null,
   "id": "b65bffe5-a011-4a25-915b-9bbdb815c2c4",
   "metadata": {},
   "outputs": [],
   "source": []
  }
 ],
 "metadata": {
  "kernelspec": {
   "display_name": "Python 3 (ipykernel)",
   "language": "python",
   "name": "python3"
  },
  "language_info": {
   "codemirror_mode": {
    "name": "ipython",
    "version": 3
   },
   "file_extension": ".py",
   "mimetype": "text/x-python",
   "name": "python",
   "nbconvert_exporter": "python",
   "pygments_lexer": "ipython3",
   "version": "3.11.7"
  }
 },
 "nbformat": 4,
 "nbformat_minor": 5
}
