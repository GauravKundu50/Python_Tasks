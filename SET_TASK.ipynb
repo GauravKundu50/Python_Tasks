{
 "cells": [
  {
   "cell_type": "markdown",
   "id": "45a02e43-c169-4b58-92cc-501d7269178f",
   "metadata": {},
   "source": [
    "# SET\n",
    "\n",
    "* Set are unordered collections of unique elements. They are similar to lists in terms of storing elements, but unlike lists, sets cannot contain duplicate entries.\n",
    "\n",
    "* Example:-"
   ]
  },
  {
   "cell_type": "code",
   "execution_count": 2,
   "id": "5ad1ad0e-3adb-4a31-a930-5e0fdfaf9ddf",
   "metadata": {},
   "outputs": [
    {
     "name": "stdout",
     "output_type": "stream",
     "text": [
      "<class 'set'>\n",
      "{32, 65, 34, 1, 38, 74, 75, 22}\n"
     ]
    }
   ],
   "source": [
    "S1 = {1,22,74,34,65,75,32,38}\n",
    "\n",
    "print(type(S1))\n",
    "\n",
    "print(S1)"
   ]
  },
  {
   "cell_type": "code",
   "execution_count": null,
   "id": "945b57c9-7f3b-422e-b46f-08792f96d5e6",
   "metadata": {},
   "outputs": [],
   "source": []
  },
  {
   "cell_type": "markdown",
   "id": "24b46081-82a6-4e6f-bc16-e195da363371",
   "metadata": {},
   "source": [
    "# ADD(+)\n",
    "\n",
    "* The 'ADD' fuction is use to add elements in sets.\n",
    "\n",
    "* Example:-"
   ]
  },
  {
   "cell_type": "code",
   "execution_count": 4,
   "id": "91d88405-765a-4788-8483-d7f0cfc0f849",
   "metadata": {},
   "outputs": [
    {
     "name": "stdout",
     "output_type": "stream",
     "text": [
      "{33, 34, 2, 21, 55, 'NewValue', 43}\n"
     ]
    }
   ],
   "source": [
    "S2 = {21,34,33,55,2,43}\n",
    "\n",
    "S2.add('NewValue')\n",
    "\n",
    "print(S2)"
   ]
  },
  {
   "cell_type": "code",
   "execution_count": null,
   "id": "650795f0-7abd-47d3-9fa0-cb3504944739",
   "metadata": {},
   "outputs": [],
   "source": []
  },
  {
   "cell_type": "markdown",
   "id": "33b36397-41b2-4edc-ac32-ba3d28c98f9e",
   "metadata": {},
   "source": [
    "# CLEAR()\n",
    "\r",
    "* The 'CLEAR' functiontrRemoves all elements from the set, leaving it empty\n",
    "\n",
    "* Example:-."
   ]
  },
  {
   "cell_type": "code",
   "execution_count": 14,
   "id": "470f605f-e48a-4c26-a022-4c83379650fc",
   "metadata": {},
   "outputs": [
    {
     "data": {
      "text/plain": [
       "[]"
      ]
     },
     "execution_count": 14,
     "metadata": {},
     "output_type": "execute_result"
    }
   ],
   "source": [
    "s3= [12,22,34,56,78,98,990,12,122,234]\n",
    "\n",
    "s3.clear()\n",
    "\n",
    "s3"
   ]
  },
  {
   "cell_type": "code",
   "execution_count": null,
   "id": "dc77e25c-07f7-429b-a279-8c97808626d6",
   "metadata": {},
   "outputs": [],
   "source": []
  },
  {
   "cell_type": "markdown",
   "id": "e325563b-e50b-42b6-bbb7-fdb8e0472a47",
   "metadata": {},
   "source": [
    "# DIFFERENCE()\n",
    "\n",
    "* The 'DIFFERENCE' FUNCTION Returns a new set with elements that are in the set but not in the others.\n",
    "\n",
    "* Example:-"
   ]
  },
  {
   "cell_type": "code",
   "execution_count": 22,
   "id": "5bdb3626-bf6c-4b06-ae32-23e9b28b2cd4",
   "metadata": {},
   "outputs": [
    {
     "data": {
      "text/plain": [
       "{43, 50, 54}"
      ]
     },
     "execution_count": 22,
     "metadata": {},
     "output_type": "execute_result"
    }
   ],
   "source": [
    "s1 = {20,40,30,50,43,54,40}\n",
    "\n",
    "s2 = {20,30,40}\n",
    "\n",
    "NewSet = s1.difference(s2)\n",
    "\n",
    "NewSet"
   ]
  },
  {
   "cell_type": "code",
   "execution_count": null,
   "id": "377c44ad-5115-42eb-bf1a-cfd296922da1",
   "metadata": {},
   "outputs": [],
   "source": []
  },
  {
   "cell_type": "markdown",
   "id": "527a5592-438f-4fc3-8623-0184e6f10b22",
   "metadata": {},
   "source": [
    "# COPY()\n",
    "\n",
    "* The 'COPY' function returns a shallow copy of the set.\n",
    "\n",
    "* Example:-"
   ]
  },
  {
   "cell_type": "code",
   "execution_count": 23,
   "id": "053f4b1b-51aa-455e-938a-fec02534646b",
   "metadata": {},
   "outputs": [
    {
     "data": {
      "text/plain": [
       "{17, 20, 21, 32, 33, 34, 67, 99}"
      ]
     },
     "execution_count": 23,
     "metadata": {},
     "output_type": "execute_result"
    }
   ],
   "source": [
    "s5 = {33,21,34,67,34,17,32,99,20}\n",
    "\n",
    "s5.copy()\n",
    "\n",
    "s5"
   ]
  },
  {
   "cell_type": "code",
   "execution_count": null,
   "id": "4d4eff06-7846-4fbf-8e3e-366b222b8417",
   "metadata": {},
   "outputs": [],
   "source": []
  },
  {
   "cell_type": "markdown",
   "id": "625b6274-eadc-4a69-af36-993966c28bd5",
   "metadata": {},
   "source": [
    "# DIFFERENCE_UPDATE()\n",
    "\n",
    "* The 'DIFFERENCE_UPDATE()' function removes elements from the set that are also in the others.\n",
    "\n",
    "* Example:-"
   ]
  },
  {
   "cell_type": "code",
   "execution_count": 28,
   "id": "f926e54e-bd4e-4a4d-a5bb-d39485db8db4",
   "metadata": {},
   "outputs": [
    {
     "data": {
      "text/plain": [
       "{23, 33, 95}"
      ]
     },
     "execution_count": 28,
     "metadata": {},
     "output_type": "execute_result"
    }
   ],
   "source": [
    "s6 = {22,40,95,80,45,88,33,23}\n",
    "\n",
    "sn = {22,40,80,45,88}\n",
    "\n",
    "s6.difference_update(sn)\n",
    "\n",
    "s6"
   ]
  },
  {
   "cell_type": "code",
   "execution_count": null,
   "id": "c8106c99-35fc-4950-85b9-f8dbf69e9231",
   "metadata": {},
   "outputs": [],
   "source": []
  },
  {
   "cell_type": "markdown",
   "id": "42713b66-7a85-4b06-9970-738469558a69",
   "metadata": {},
   "source": [
    "# DISCARD()\n",
    "\n",
    "* The 'DISCARD' function removes an element elem from the set if it is a member. If the element is not a member, do nothing.\n",
    "\n",
    "Example:-"
   ]
  },
  {
   "cell_type": "code",
   "execution_count": 32,
   "id": "a599e95e-03cc-46e5-970e-3e357736e9b2",
   "metadata": {},
   "outputs": [
    {
     "data": {
      "text/plain": [
       "{22, 32, 45, 64, 123, 124, 333}"
      ]
     },
     "execution_count": 32,
     "metadata": {},
     "output_type": "execute_result"
    }
   ],
   "source": [
    "s7 = {333,124,32,45,22,64,755,123}\n",
    "\n",
    "s7.discard(755)\n",
    "\n",
    "s7"
   ]
  },
  {
   "cell_type": "code",
   "execution_count": null,
   "id": "20073e30-a4ce-4873-a61e-91285e9746ca",
   "metadata": {},
   "outputs": [],
   "source": []
  },
  {
   "cell_type": "markdown",
   "id": "3acdd9f0-4188-47d2-9402-0b0ba9ce990b",
   "metadata": {},
   "source": [
    "# INTERSECTION()\n",
    "\n",
    "* The 'INTERSECTIOIN' function returns a new set with elements common to the set and all others\n",
    "\n",
    "* Example:-"
   ]
  },
  {
   "cell_type": "code",
   "execution_count": 34,
   "id": "b247f212-055f-4cb9-b3fb-15038ea445f4",
   "metadata": {},
   "outputs": [
    {
     "data": {
      "text/plain": [
       "{12, 32, 75}"
      ]
     },
     "execution_count": 34,
     "metadata": {},
     "output_type": "execute_result"
    }
   ],
   "source": [
    "s8 = {12,32,45,77,97,55,75}\n",
    "\n",
    "s9 = {13,32,98,75,24,12}\n",
    "\n",
    "s8.intersection(s9)"
   ]
  },
  {
   "cell_type": "code",
   "execution_count": null,
   "id": "78ed864d-cb48-43c9-8dc4-694a2efe2f11",
   "metadata": {},
   "outputs": [],
   "source": []
  },
  {
   "cell_type": "markdown",
   "id": "b2a6305f-3789-4963-ae79-b4028f56df9f",
   "metadata": {},
   "source": [
    "# INTERSECTION_UPDATE()\n",
    "\n",
    "* The 'INTERSECTION_UPDATE' function updates the set, keeping only elements found in it and all others.\n",
    "\n",
    "* Example:-"
   ]
  },
  {
   "cell_type": "code",
   "execution_count": 36,
   "id": "23b09452-9939-4570-95a0-2a99c13f616d",
   "metadata": {},
   "outputs": [
    {
     "data": {
      "text/plain": [
       "{22, 23, 54, 66}"
      ]
     },
     "execution_count": 36,
     "metadata": {},
     "output_type": "execute_result"
    }
   ],
   "source": [
    "s = {23,54,66,22,88,22}\n",
    "\n",
    "sn = {32,12,43,54,22,66,34,23}\n",
    "\n",
    "s.intersection_update(sn)\n",
    "\n",
    "s"
   ]
  },
  {
   "cell_type": "code",
   "execution_count": null,
   "id": "f5813b82-e93d-4af7-9922-70ebe46032bd",
   "metadata": {},
   "outputs": [],
   "source": []
  },
  {
   "cell_type": "markdown",
   "id": "458e3111-9ba5-4657-b3d0-8ad73d1c7c1c",
   "metadata": {},
   "source": [
    "# ISDISJOINT()\n",
    "\n",
    "* The 'ISDISJOINT' methods returns True if the set has no elements in common with other. If the set and other are disjoint, returns False otherwise.\n",
    "\n",
    "* Example:-"
   ]
  },
  {
   "cell_type": "code",
   "execution_count": 42,
   "id": "9466e028-88d0-450c-9e38-2b947be2aa8a",
   "metadata": {},
   "outputs": [
    {
     "data": {
      "text/plain": [
       "False"
      ]
     },
     "execution_count": 42,
     "metadata": {},
     "output_type": "execute_result"
    }
   ],
   "source": [
    "s1 = {55,230,450}\n",
    "\n",
    "s2 = {51,130,230,150}\n",
    "\n",
    "s1.isdisjoint(s2)"
   ]
  },
  {
   "cell_type": "code",
   "execution_count": null,
   "id": "13a09d84-dd14-4761-adaa-a27d4d9c47de",
   "metadata": {},
   "outputs": [],
   "source": []
  },
  {
   "cell_type": "markdown",
   "id": "4b55444e-9402-42e2-bf1d-cea51e953d22",
   "metadata": {},
   "source": [
    "# ISSUBSET()\n",
    "\n",
    "* The 'ISSUBSET' returns True if all elements of the set are in other, False otherwise.\n",
    "\n",
    "* Example:-"
   ]
  },
  {
   "cell_type": "code",
   "execution_count": 47,
   "id": "99a1bc67-6c7a-4963-8db3-f764e2a3dbf4",
   "metadata": {},
   "outputs": [
    {
     "data": {
      "text/plain": [
       "False"
      ]
     },
     "execution_count": 47,
     "metadata": {},
     "output_type": "execute_result"
    }
   ],
   "source": [
    "set1 = {30, 40, 550}\n",
    "\n",
    "set2 = {50, 30, 40}\n",
    "\n",
    "set1.issubset(set2)"
   ]
  },
  {
   "cell_type": "code",
   "execution_count": null,
   "id": "8533da11-70f5-4634-9a69-5ecbaecf6174",
   "metadata": {},
   "outputs": [],
   "source": []
  },
  {
   "cell_type": "markdown",
   "id": "af426059-2412-42ee-ae4c-f8e7271afff9",
   "metadata": {},
   "source": [
    "# ISSUPERSET()\n",
    "\n",
    "* The 'ISSUPERSET' methods returns True if all elements of other are in the set, False otherwise.\n",
    "\n",
    "* Example:-"
   ]
  },
  {
   "cell_type": "code",
   "execution_count": 49,
   "id": "b4edc6fd-54fd-4c11-8e82-1d49bee2c85b",
   "metadata": {},
   "outputs": [
    {
     "data": {
      "text/plain": [
       "False"
      ]
     },
     "execution_count": 49,
     "metadata": {},
     "output_type": "execute_result"
    }
   ],
   "source": [
    "set = {30, 40, 50}\n",
    "\n",
    "newSet = {20, 30, 40}\n",
    "\n",
    "set.issuperset(newSet)"
   ]
  },
  {
   "cell_type": "code",
   "execution_count": null,
   "id": "44bfdd93-3e0b-421c-8b25-e7804566aca8",
   "metadata": {},
   "outputs": [],
   "source": []
  },
  {
   "cell_type": "markdown",
   "id": "9a06057a-5e6f-4a27-8298-f7a153dae0f7",
   "metadata": {},
   "source": [
    "# POP()\n",
    "\n",
    "* The 'POP' method removes and returns an arbitrary element from the set. Raises KeyError if the set is empty.\n",
    "\n",
    "* Example:-"
   ]
  },
  {
   "cell_type": "code",
   "execution_count": 52,
   "id": "47b5c783-dacb-43e0-921c-28e8edc39af7",
   "metadata": {},
   "outputs": [
    {
     "data": {
      "text/plain": [
       "{42, 243, 334, 420, 648}"
      ]
     },
     "execution_count": 52,
     "metadata": {},
     "output_type": "execute_result"
    }
   ],
   "source": [
    "set = {243, 420, 34, 42, 334, 648}\n",
    "\n",
    "set.pop()\n",
    "\n",
    "set"
   ]
  },
  {
   "cell_type": "code",
   "execution_count": null,
   "id": "e80297d7-198b-4965-81d7-ec23ec677ffe",
   "metadata": {},
   "outputs": [],
   "source": []
  },
  {
   "cell_type": "markdown",
   "id": "57b677a7-4b5a-4d8e-8b6b-919d67e30d66",
   "metadata": {},
   "source": [
    "# SYMMETRIC_DIFFERENCE()\n",
    "\n",
    "* The 'SYMMETRIC_DIFFERENCE' function returns a new set with elements in either the set or other but not in both.\n",
    "\n",
    "* Example:-"
   ]
  },
  {
   "cell_type": "code",
   "execution_count": 58,
   "id": "1f4e4d50-611f-40ac-945f-3cd6b6a625cf",
   "metadata": {},
   "outputs": [
    {
     "data": {
      "text/plain": [
       "{20, 40, 355, 433}"
      ]
     },
     "execution_count": 58,
     "metadata": {},
     "output_type": "execute_result"
    }
   ],
   "source": [
    "set1 = {144, 450, 355,433,232}\n",
    "\n",
    "set2 = {20, 144,232,40,450}\n",
    "\n",
    "set1.symmetric_difference(set2)"
   ]
  },
  {
   "cell_type": "code",
   "execution_count": null,
   "id": "29df4af6-db66-4661-9dc3-49b22247c0af",
   "metadata": {},
   "outputs": [],
   "source": []
  },
  {
   "cell_type": "markdown",
   "id": "b343d6ff-a4dd-4eb1-afb1-785f0190db45",
   "metadata": {},
   "source": [
    "# UPDATE()\n",
    "\n",
    "* The 'UPDATE' methods updates the set, adding elements from all others.\n",
    " \n",
    "* Example:-"
   ]
  },
  {
   "cell_type": "code",
   "execution_count": 60,
   "id": "c86d8d6c-ae12-4c82-8ea1-1fad4fc2bdd2",
   "metadata": {},
   "outputs": [
    {
     "data": {
      "text/plain": [
       "{12, 24, 36, 48}"
      ]
     },
     "execution_count": 60,
     "metadata": {},
     "output_type": "execute_result"
    }
   ],
   "source": [
    "sOne = {24, 36, 48}\n",
    "\n",
    "sTwo = {12, 48, 36}\n",
    "\n",
    "sOne.update(sTwo)\n",
    "\n",
    "sOne"
   ]
  },
  {
   "cell_type": "code",
   "execution_count": null,
   "id": "170420be-5f1b-458c-90ae-492bf2d89c54",
   "metadata": {},
   "outputs": [],
   "source": []
  },
  {
   "cell_type": "markdown",
   "id": "b5f3a86f-a6f9-4195-954b-5caaa0c7de99",
   "metadata": {},
   "source": [
    "# UNION()\n",
    "\n",
    "* The 'UNION' function returns a new set with elements from the set and all others.\n"
   ]
  },
  {
   "cell_type": "code",
   "execution_count": 67,
   "id": "23a4b007-b141-4de5-b2f5-331439a5a9d1",
   "metadata": {},
   "outputs": [
    {
     "data": {
      "text/plain": [
       "{120, 123, 150, 200, 250}"
      ]
     },
     "execution_count": 67,
     "metadata": {},
     "output_type": "execute_result"
    }
   ],
   "source": [
    "sets = {123, 150, 250}\n",
    "\n",
    "sets2 = {200, 120, 123}\n",
    "\n",
    "sets.union(sets2)"
   ]
  },
  {
   "cell_type": "code",
   "execution_count": null,
   "id": "60684996-5530-4eb8-8650-2dad79a43b4a",
   "metadata": {},
   "outputs": [],
   "source": []
  },
  {
   "cell_type": "markdown",
   "id": "d929e154-7b73-4d22-a777-03b3eea9afae",
   "metadata": {},
   "source": [
    "# SYMMETRIC_DIFFERENCE_UPDATE()\n",
    "\n",
    "* The 'SYMMETRIC_DIFFERENCE_UPDATE' remove the items that are present in both sets, AND insert the items that is not present in both sets\n",
    "\n",
    "* Example:-"
   ]
  },
  {
   "cell_type": "code",
   "execution_count": 70,
   "id": "e71067d3-9750-402c-9960-c3df2c4697ee",
   "metadata": {},
   "outputs": [
    {
     "data": {
      "text/plain": [
       "{'Apple', 'Asus', 'Dell', 'Samsung'}"
      ]
     },
     "execution_count": 70,
     "metadata": {},
     "output_type": "execute_result"
    }
   ],
   "source": [
    "ss = {'Samsung','Lenovo','Asus','Acer'}\n",
    "ss1 = {'Apple','Dell', 'Lenovo','Acer'}\n",
    "\n",
    "ss.symmetric_difference_update(ss1) \n",
    "\n",
    "ss"
   ]
  },
  {
   "cell_type": "code",
   "execution_count": null,
   "id": "dfef4532-f416-43db-96c4-c07591b0f009",
   "metadata": {},
   "outputs": [],
   "source": []
  }
 ],
 "metadata": {
  "kernelspec": {
   "display_name": "Python 3 (ipykernel)",
   "language": "python",
   "name": "python3"
  },
  "language_info": {
   "codemirror_mode": {
    "name": "ipython",
    "version": 3
   },
   "file_extension": ".py",
   "mimetype": "text/x-python",
   "name": "python",
   "nbconvert_exporter": "python",
   "pygments_lexer": "ipython3",
   "version": "3.11.7"
  }
 },
 "nbformat": 4,
 "nbformat_minor": 5
}
