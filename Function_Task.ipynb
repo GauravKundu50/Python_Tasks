{
 "cells": [
  {
   "cell_type": "code",
   "execution_count": 2,
   "id": "d793af03-9b8c-4622-88fa-3f2121fcead6",
   "metadata": {},
   "outputs": [
    {
     "name": "stdout",
     "output_type": "stream",
     "text": [
      "This is a dictionary\n",
      "{'Name1': 'GAU', 'Name2': 'RAV', 'Name3': ' DA4', 'joinName': 'GAURAV DA4'}\n"
     ]
    }
   ],
   "source": [
    "print('This is a dictionary')\n",
    "\n",
    "def dictName(val1,val2,val3):\n",
    "    join_Name = f'{val1}{val2}{val3}'\n",
    "    result = {\n",
    "        'Name1':val1,\n",
    "        'Name2':val2,\n",
    "        'Name3':val3,\n",
    "        'joinName':join_Name\n",
    "    }\n",
    "    return result\n",
    "\n",
    "\n",
    "val1 = \"GAU\"\n",
    "val2 = \"RAV\"\n",
    "val3 = \" DA4\"\n",
    "output = dictName(val1,val2,val3)\n",
    "\n",
    "print(output)"
   ]
  },
  {
   "cell_type": "code",
   "execution_count": null,
   "id": "d4dac8ba-e7e5-422a-a7fb-0bffe2df0859",
   "metadata": {},
   "outputs": [],
   "source": []
  }
 ],
 "metadata": {
  "kernelspec": {
   "display_name": "Python 3 (ipykernel)",
   "language": "python",
   "name": "python3"
  },
  "language_info": {
   "codemirror_mode": {
    "name": "ipython",
    "version": 3
   },
   "file_extension": ".py",
   "mimetype": "text/x-python",
   "name": "python",
   "nbconvert_exporter": "python",
   "pygments_lexer": "ipython3",
   "version": "3.11.7"
  }
 },
 "nbformat": 4,
 "nbformat_minor": 5
}
